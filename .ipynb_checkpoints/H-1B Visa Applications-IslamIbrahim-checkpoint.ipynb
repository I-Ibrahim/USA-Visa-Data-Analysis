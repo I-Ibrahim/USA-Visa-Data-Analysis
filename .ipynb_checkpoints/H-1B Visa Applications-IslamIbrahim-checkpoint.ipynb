{
 "cells": [
  {
   "cell_type": "code",
   "execution_count": 1,
   "metadata": {
    "collapsed": true
   },
   "outputs": [],
   "source": [
    "import numpy as np\n",
    "import pandas as pd"
   ]
  },
  {
   "cell_type": "markdown",
   "metadata": {},
   "source": [
    "# Summary\n",
    "\n",
    "\n",
    "Apart from the time it took for the notebook to load the datasets, merging them ran smoothly. I then removed any features I felt would be unnecessary for my purposes by addressing the dataset documentation. This allowed me to inspect the dataset more readily and from this I decided to focus on analysing the relationship between wages and the time taken to process each application. \n",
    "\n",
    "In terms of cleaning and preparing the data for analysis, I first needed to combine the columns that quoted the range of wages into one column with an average between the two. I then dealt with any missing values by simply removing any observations with at least one missing value in a column, since there were so few relative to the total number of observations and so would have minimal impact the total dataset. Then converted all the wages into a common unit of measurement and removed any erroneous values of wages which were below the 1% or above the 99% quantiles.\n",
    "\n",
    "For the analysis, I plotted a scatter graph showing the relationship between the proposed wages of each applicant and the days taken to receive a response - for both the accepted and rejected applications. As you'll see, I found a very weak relationship between the two which I don’t think was indicative of any trend. I then wanted to explore if there is a link between the wages of the application and it being approved. Using a bar chart of the mean wages and their status showed only marginal disparity. A bar chart was used once again to compare the average days taken to receive a response for accepted and rejected applications. Showing that the average days taken was almost double for the accepted applications. "
   ]
  },
  {
   "cell_type": "markdown",
   "metadata": {},
   "source": [
    "# 1) Load and Merge Data"
   ]
  },
  {
   "cell_type": "code",
   "execution_count": 2,
   "metadata": {
    "collapsed": false
   },
   "outputs": [
    {
     "data": {
      "text/html": [
       "<div>\n",
       "<table border=\"1\" class=\"dataframe\">\n",
       "  <thead>\n",
       "    <tr style=\"text-align: right;\">\n",
       "      <th></th>\n",
       "      <th>CASE_NUMBER</th>\n",
       "      <th>CASE_STATUS</th>\n",
       "      <th>CASE_SUBMITTED</th>\n",
       "      <th>DECISION_DATE</th>\n",
       "      <th>VISA_CLASS</th>\n",
       "      <th>EMPLOYMENT_START_DATE</th>\n",
       "      <th>EMPLOYMENT_END_DATE</th>\n",
       "      <th>EMPLOYER_NAME</th>\n",
       "      <th>EMPLOYER_ADDRESS</th>\n",
       "      <th>EMPLOYER_CITY</th>\n",
       "      <th>...</th>\n",
       "      <th>WAGE_RATE_OF_PAY_TO</th>\n",
       "      <th>WAGE_UNIT_OF_PAY</th>\n",
       "      <th>H-1B_DEPENDENT</th>\n",
       "      <th>WILLFUL_VIOLATOR</th>\n",
       "      <th>WORKSITE_CITY</th>\n",
       "      <th>WORKSITE_COUNTY</th>\n",
       "      <th>WORKSITE_STATE</th>\n",
       "      <th>WORKSITE_POSTAL_CODE</th>\n",
       "      <th>ORIGINAL_CERT_DATE</th>\n",
       "      <th>Year</th>\n",
       "    </tr>\n",
       "  </thead>\n",
       "  <tbody>\n",
       "    <tr>\n",
       "      <th>0</th>\n",
       "      <td>I-200-12240-490687</td>\n",
       "      <td>CERTIFIED-WITHDRAWN</td>\n",
       "      <td>2012-08-27</td>\n",
       "      <td>2015-10-16</td>\n",
       "      <td>H-1B</td>\n",
       "      <td>2013-02-25</td>\n",
       "      <td>2016-02-24</td>\n",
       "      <td>UNIVERSITY OF MICHIGAN</td>\n",
       "      <td>PIERPONT COMMONS, INTERNATIONAL CENTER</td>\n",
       "      <td>ANN ARBOR</td>\n",
       "      <td>...</td>\n",
       "      <td>0.0</td>\n",
       "      <td>Year</td>\n",
       "      <td>N</td>\n",
       "      <td>N</td>\n",
       "      <td>ANN ARBOR</td>\n",
       "      <td>WASHTENAW</td>\n",
       "      <td>MI</td>\n",
       "      <td>48109</td>\n",
       "      <td>2012-08-31</td>\n",
       "      <td>2016</td>\n",
       "    </tr>\n",
       "    <tr>\n",
       "      <th>1</th>\n",
       "      <td>I-200-13053-847481</td>\n",
       "      <td>CERTIFIED-WITHDRAWN</td>\n",
       "      <td>2013-02-25</td>\n",
       "      <td>2016-01-13</td>\n",
       "      <td>H-1B</td>\n",
       "      <td>2013-08-24</td>\n",
       "      <td>2016-08-23</td>\n",
       "      <td>GOODMAN NETWORKS, INC.</td>\n",
       "      <td>6400 INTERNATIONAL PARKWAY, SUITE 1000</td>\n",
       "      <td>PLANO</td>\n",
       "      <td>...</td>\n",
       "      <td>0.0</td>\n",
       "      <td>Year</td>\n",
       "      <td>N</td>\n",
       "      <td>N</td>\n",
       "      <td>PLANO</td>\n",
       "      <td>COLLIN</td>\n",
       "      <td>TX</td>\n",
       "      <td>75093</td>\n",
       "      <td>2013-03-01</td>\n",
       "      <td>2016</td>\n",
       "    </tr>\n",
       "    <tr>\n",
       "      <th>2</th>\n",
       "      <td>I-200-13088-054259</td>\n",
       "      <td>CERTIFIED-WITHDRAWN</td>\n",
       "      <td>2013-04-23</td>\n",
       "      <td>2015-12-10</td>\n",
       "      <td>H-1B</td>\n",
       "      <td>2013-04-29</td>\n",
       "      <td>2016-04-28</td>\n",
       "      <td>PORTS AMERICA GROUP, INC.</td>\n",
       "      <td>525 WASHINGTON BOULEVARD</td>\n",
       "      <td>JERSEY CITY</td>\n",
       "      <td>...</td>\n",
       "      <td>451100.0</td>\n",
       "      <td>Year</td>\n",
       "      <td>N</td>\n",
       "      <td>N</td>\n",
       "      <td>JERSEY CITY</td>\n",
       "      <td>HUDSON</td>\n",
       "      <td>NJ</td>\n",
       "      <td>07310</td>\n",
       "      <td>2013-04-29</td>\n",
       "      <td>2016</td>\n",
       "    </tr>\n",
       "    <tr>\n",
       "      <th>3</th>\n",
       "      <td>I-200-13144-034110</td>\n",
       "      <td>CERTIFIED-WITHDRAWN</td>\n",
       "      <td>2013-05-24</td>\n",
       "      <td>2016-01-19</td>\n",
       "      <td>H-1B</td>\n",
       "      <td>2013-10-01</td>\n",
       "      <td>2016-09-30</td>\n",
       "      <td>GATES CORPORATION, A WHOLLY-OWNED SUBSIDIARY O...</td>\n",
       "      <td>1551 WEWATTA STREET</td>\n",
       "      <td>DENVER</td>\n",
       "      <td>...</td>\n",
       "      <td>600000.0</td>\n",
       "      <td>Year</td>\n",
       "      <td>N</td>\n",
       "      <td>N</td>\n",
       "      <td>DENVER</td>\n",
       "      <td>DENVER</td>\n",
       "      <td>CO</td>\n",
       "      <td>80202</td>\n",
       "      <td>2013-05-29</td>\n",
       "      <td>2016</td>\n",
       "    </tr>\n",
       "    <tr>\n",
       "      <th>4</th>\n",
       "      <td>I-200-13172-415116</td>\n",
       "      <td>WITHDRAWN</td>\n",
       "      <td>2013-06-26</td>\n",
       "      <td>2016-05-20</td>\n",
       "      <td>H-1B</td>\n",
       "      <td>2013-10-18</td>\n",
       "      <td>2016-10-17</td>\n",
       "      <td>PEABODY INVESTMENTS CORP.</td>\n",
       "      <td>701 MARKET STREET</td>\n",
       "      <td>ST. LOUIS</td>\n",
       "      <td>...</td>\n",
       "      <td>0.0</td>\n",
       "      <td>Hour</td>\n",
       "      <td>N</td>\n",
       "      <td>N</td>\n",
       "      <td>ST. LOUIS</td>\n",
       "      <td>ST. LOUIS</td>\n",
       "      <td>MO</td>\n",
       "      <td>63101</td>\n",
       "      <td>NaT</td>\n",
       "      <td>2016</td>\n",
       "    </tr>\n",
       "  </tbody>\n",
       "</table>\n",
       "<p>5 rows × 41 columns</p>\n",
       "</div>"
      ],
      "text/plain": [
       "          CASE_NUMBER          CASE_STATUS CASE_SUBMITTED DECISION_DATE  \\\n",
       "0  I-200-12240-490687  CERTIFIED-WITHDRAWN     2012-08-27    2015-10-16   \n",
       "1  I-200-13053-847481  CERTIFIED-WITHDRAWN     2013-02-25    2016-01-13   \n",
       "2  I-200-13088-054259  CERTIFIED-WITHDRAWN     2013-04-23    2015-12-10   \n",
       "3  I-200-13144-034110  CERTIFIED-WITHDRAWN     2013-05-24    2016-01-19   \n",
       "4  I-200-13172-415116            WITHDRAWN     2013-06-26    2016-05-20   \n",
       "\n",
       "  VISA_CLASS EMPLOYMENT_START_DATE EMPLOYMENT_END_DATE  \\\n",
       "0       H-1B            2013-02-25          2016-02-24   \n",
       "1       H-1B            2013-08-24          2016-08-23   \n",
       "2       H-1B            2013-04-29          2016-04-28   \n",
       "3       H-1B            2013-10-01          2016-09-30   \n",
       "4       H-1B            2013-10-18          2016-10-17   \n",
       "\n",
       "                                       EMPLOYER_NAME  \\\n",
       "0                             UNIVERSITY OF MICHIGAN   \n",
       "1                             GOODMAN NETWORKS, INC.   \n",
       "2                          PORTS AMERICA GROUP, INC.   \n",
       "3  GATES CORPORATION, A WHOLLY-OWNED SUBSIDIARY O...   \n",
       "4                          PEABODY INVESTMENTS CORP.   \n",
       "\n",
       "                         EMPLOYER_ADDRESS EMPLOYER_CITY  ...   \\\n",
       "0  PIERPONT COMMONS, INTERNATIONAL CENTER     ANN ARBOR  ...    \n",
       "1  6400 INTERNATIONAL PARKWAY, SUITE 1000         PLANO  ...    \n",
       "2                525 WASHINGTON BOULEVARD   JERSEY CITY  ...    \n",
       "3                     1551 WEWATTA STREET        DENVER  ...    \n",
       "4                       701 MARKET STREET     ST. LOUIS  ...    \n",
       "\n",
       "  WAGE_RATE_OF_PAY_TO WAGE_UNIT_OF_PAY H-1B_DEPENDENT WILLFUL_VIOLATOR  \\\n",
       "0                 0.0             Year              N                N   \n",
       "1                 0.0             Year              N                N   \n",
       "2            451100.0             Year              N                N   \n",
       "3            600000.0             Year              N                N   \n",
       "4                 0.0             Hour              N                N   \n",
       "\n",
       "  WORKSITE_CITY WORKSITE_COUNTY WORKSITE_STATE WORKSITE_POSTAL_CODE  \\\n",
       "0     ANN ARBOR       WASHTENAW             MI                48109   \n",
       "1         PLANO          COLLIN             TX                75093   \n",
       "2   JERSEY CITY          HUDSON             NJ                07310   \n",
       "3        DENVER          DENVER             CO                80202   \n",
       "4     ST. LOUIS       ST. LOUIS             MO                63101   \n",
       "\n",
       "  ORIGINAL_CERT_DATE  Year  \n",
       "0         2012-08-31  2016  \n",
       "1         2013-03-01  2016  \n",
       "2         2013-04-29  2016  \n",
       "3         2013-05-29  2016  \n",
       "4                NaT  2016  \n",
       "\n",
       "[5 rows x 41 columns]"
      ]
     },
     "execution_count": 2,
     "metadata": {},
     "output_type": "execute_result"
    }
   ],
   "source": [
    "# Read raw data files \n",
    "\n",
    "h1b2016=pd.read_excel('H-1B_Disclosure_Data_FY16.xlsx')\n",
    "h1b2015=pd.read_excel('H-1B_Disclosure_Data_FY16.xlsx')\n",
    "\n",
    "# Add the a column with the Year of each prior to merging in case one needs to refer back to certain initial datasets\n",
    "\n",
    "h1b2016['Year']=2016\n",
    "h1b2015['Year']=2015\n",
    "\n",
    "h1boverall=pd.concat([h1b2016, h1b2015], axis=0) # merge data\n",
    "h1boverall.head() # view dataframe"
   ]
  },
  {
   "cell_type": "markdown",
   "metadata": {
    "collapsed": false
   },
   "source": [
    "# 2) Feature reduction"
   ]
  },
  {
   "cell_type": "code",
   "execution_count": 3,
   "metadata": {
    "collapsed": false
   },
   "outputs": [
    {
     "data": {
      "text/html": [
       "<div>\n",
       "<table border=\"1\" class=\"dataframe\">\n",
       "  <thead>\n",
       "    <tr style=\"text-align: right;\">\n",
       "      <th></th>\n",
       "      <th>CASE_NUMBER</th>\n",
       "      <th>CASE_STATUS</th>\n",
       "      <th>CASE_SUBMITTED</th>\n",
       "      <th>DECISION_DATE</th>\n",
       "      <th>VISA_CLASS</th>\n",
       "      <th>EMPLOYMENT_START_DATE</th>\n",
       "      <th>EMPLOYMENT_END_DATE</th>\n",
       "      <th>EMPLOYER_CITY</th>\n",
       "      <th>EMPLOYER_STATE</th>\n",
       "      <th>JOB_TITLE</th>\n",
       "      <th>TOTAL_WORKERS</th>\n",
       "      <th>PREVAILING_WAGE</th>\n",
       "      <th>WAGE_RATE_OF_PAY_FROM</th>\n",
       "      <th>WAGE_RATE_OF_PAY_TO</th>\n",
       "      <th>WAGE_UNIT_OF_PAY</th>\n",
       "      <th>H-1B_DEPENDENT</th>\n",
       "      <th>WILLFUL_VIOLATOR</th>\n",
       "      <th>WORKSITE_CITY</th>\n",
       "      <th>WORKSITE_STATE</th>\n",
       "      <th>Year</th>\n",
       "    </tr>\n",
       "  </thead>\n",
       "  <tbody>\n",
       "    <tr>\n",
       "      <th>0</th>\n",
       "      <td>I-200-12240-490687</td>\n",
       "      <td>CERTIFIED-WITHDRAWN</td>\n",
       "      <td>2012-08-27</td>\n",
       "      <td>2015-10-16</td>\n",
       "      <td>H-1B</td>\n",
       "      <td>2013-02-25</td>\n",
       "      <td>2016-02-24</td>\n",
       "      <td>ANN ARBOR</td>\n",
       "      <td>MI</td>\n",
       "      <td>POSTDOCTORAL RESEARCH FELLOW</td>\n",
       "      <td>1</td>\n",
       "      <td>36067.00</td>\n",
       "      <td>41000.00</td>\n",
       "      <td>0.0</td>\n",
       "      <td>Year</td>\n",
       "      <td>N</td>\n",
       "      <td>N</td>\n",
       "      <td>ANN ARBOR</td>\n",
       "      <td>MI</td>\n",
       "      <td>2016</td>\n",
       "    </tr>\n",
       "    <tr>\n",
       "      <th>1</th>\n",
       "      <td>I-200-13053-847481</td>\n",
       "      <td>CERTIFIED-WITHDRAWN</td>\n",
       "      <td>2013-02-25</td>\n",
       "      <td>2016-01-13</td>\n",
       "      <td>H-1B</td>\n",
       "      <td>2013-08-24</td>\n",
       "      <td>2016-08-23</td>\n",
       "      <td>PLANO</td>\n",
       "      <td>TX</td>\n",
       "      <td>CHIEF OPERATING OFFICER</td>\n",
       "      <td>1</td>\n",
       "      <td>242674.00</td>\n",
       "      <td>400000.00</td>\n",
       "      <td>0.0</td>\n",
       "      <td>Year</td>\n",
       "      <td>N</td>\n",
       "      <td>N</td>\n",
       "      <td>PLANO</td>\n",
       "      <td>TX</td>\n",
       "      <td>2016</td>\n",
       "    </tr>\n",
       "    <tr>\n",
       "      <th>2</th>\n",
       "      <td>I-200-13088-054259</td>\n",
       "      <td>CERTIFIED-WITHDRAWN</td>\n",
       "      <td>2013-04-23</td>\n",
       "      <td>2015-12-10</td>\n",
       "      <td>H-1B</td>\n",
       "      <td>2013-04-29</td>\n",
       "      <td>2016-04-28</td>\n",
       "      <td>JERSEY CITY</td>\n",
       "      <td>NJ</td>\n",
       "      <td>CHIEF PROCESS OFFICER</td>\n",
       "      <td>1</td>\n",
       "      <td>193066.00</td>\n",
       "      <td>264000.00</td>\n",
       "      <td>451100.0</td>\n",
       "      <td>Year</td>\n",
       "      <td>N</td>\n",
       "      <td>N</td>\n",
       "      <td>JERSEY CITY</td>\n",
       "      <td>NJ</td>\n",
       "      <td>2016</td>\n",
       "    </tr>\n",
       "    <tr>\n",
       "      <th>3</th>\n",
       "      <td>I-200-13144-034110</td>\n",
       "      <td>CERTIFIED-WITHDRAWN</td>\n",
       "      <td>2013-05-24</td>\n",
       "      <td>2016-01-19</td>\n",
       "      <td>H-1B</td>\n",
       "      <td>2013-10-01</td>\n",
       "      <td>2016-09-30</td>\n",
       "      <td>DENVER</td>\n",
       "      <td>CO</td>\n",
       "      <td>REGIONAL PRESIDEN, AMERICAS</td>\n",
       "      <td>1</td>\n",
       "      <td>220314.00</td>\n",
       "      <td>220314.00</td>\n",
       "      <td>600000.0</td>\n",
       "      <td>Year</td>\n",
       "      <td>N</td>\n",
       "      <td>N</td>\n",
       "      <td>DENVER</td>\n",
       "      <td>CO</td>\n",
       "      <td>2016</td>\n",
       "    </tr>\n",
       "    <tr>\n",
       "      <th>4</th>\n",
       "      <td>I-200-13172-415116</td>\n",
       "      <td>WITHDRAWN</td>\n",
       "      <td>2013-06-26</td>\n",
       "      <td>2016-05-20</td>\n",
       "      <td>H-1B</td>\n",
       "      <td>2013-10-18</td>\n",
       "      <td>2016-10-17</td>\n",
       "      <td>ST. LOUIS</td>\n",
       "      <td>MO</td>\n",
       "      <td>PRESIDENT MONGOLIA AND INDIA</td>\n",
       "      <td>1</td>\n",
       "      <td>75.73</td>\n",
       "      <td>171.63</td>\n",
       "      <td>0.0</td>\n",
       "      <td>Hour</td>\n",
       "      <td>N</td>\n",
       "      <td>N</td>\n",
       "      <td>ST. LOUIS</td>\n",
       "      <td>MO</td>\n",
       "      <td>2016</td>\n",
       "    </tr>\n",
       "  </tbody>\n",
       "</table>\n",
       "</div>"
      ],
      "text/plain": [
       "          CASE_NUMBER          CASE_STATUS CASE_SUBMITTED DECISION_DATE  \\\n",
       "0  I-200-12240-490687  CERTIFIED-WITHDRAWN     2012-08-27    2015-10-16   \n",
       "1  I-200-13053-847481  CERTIFIED-WITHDRAWN     2013-02-25    2016-01-13   \n",
       "2  I-200-13088-054259  CERTIFIED-WITHDRAWN     2013-04-23    2015-12-10   \n",
       "3  I-200-13144-034110  CERTIFIED-WITHDRAWN     2013-05-24    2016-01-19   \n",
       "4  I-200-13172-415116            WITHDRAWN     2013-06-26    2016-05-20   \n",
       "\n",
       "  VISA_CLASS EMPLOYMENT_START_DATE EMPLOYMENT_END_DATE EMPLOYER_CITY  \\\n",
       "0       H-1B            2013-02-25          2016-02-24     ANN ARBOR   \n",
       "1       H-1B            2013-08-24          2016-08-23         PLANO   \n",
       "2       H-1B            2013-04-29          2016-04-28   JERSEY CITY   \n",
       "3       H-1B            2013-10-01          2016-09-30        DENVER   \n",
       "4       H-1B            2013-10-18          2016-10-17     ST. LOUIS   \n",
       "\n",
       "  EMPLOYER_STATE                     JOB_TITLE  TOTAL_WORKERS  \\\n",
       "0             MI  POSTDOCTORAL RESEARCH FELLOW              1   \n",
       "1             TX       CHIEF OPERATING OFFICER              1   \n",
       "2             NJ         CHIEF PROCESS OFFICER              1   \n",
       "3             CO   REGIONAL PRESIDEN, AMERICAS              1   \n",
       "4             MO  PRESIDENT MONGOLIA AND INDIA              1   \n",
       "\n",
       "   PREVAILING_WAGE  WAGE_RATE_OF_PAY_FROM  WAGE_RATE_OF_PAY_TO  \\\n",
       "0         36067.00               41000.00                  0.0   \n",
       "1        242674.00              400000.00                  0.0   \n",
       "2        193066.00              264000.00             451100.0   \n",
       "3        220314.00              220314.00             600000.0   \n",
       "4            75.73                 171.63                  0.0   \n",
       "\n",
       "  WAGE_UNIT_OF_PAY H-1B_DEPENDENT WILLFUL_VIOLATOR WORKSITE_CITY  \\\n",
       "0             Year              N                N     ANN ARBOR   \n",
       "1             Year              N                N         PLANO   \n",
       "2             Year              N                N   JERSEY CITY   \n",
       "3             Year              N                N        DENVER   \n",
       "4             Hour              N                N     ST. LOUIS   \n",
       "\n",
       "  WORKSITE_STATE  Year  \n",
       "0             MI  2016  \n",
       "1             TX  2016  \n",
       "2             NJ  2016  \n",
       "3             CO  2016  \n",
       "4             MO  2016  "
      ]
     },
     "execution_count": 3,
     "metadata": {},
     "output_type": "execute_result"
    }
   ],
   "source": [
    "h1boverallv2=h1boverall.drop(['EMPLOYER_ADDRESS', 'EMPLOYER_POSTAL_CODE', 'EMPLOYER_PROVINCE',\n",
    "                           'EMPLOYER_PHONE', 'EMPLOYER_PHONE_EXT','AGENT_ATTORNEY_NAME','AGENT_ATTORNEY_CITY',\n",
    "                           'AGENT_ATTORNEY_STATE','SOC_CODE', 'SOC_NAME', 'NAIC_CODE', 'PW_SOURCE_OTHER', \n",
    "                           'PW_SOURCE_YEAR','PW_UNIT_OF_PAY','WORKSITE_POSTAL_CODE',\n",
    "                              'WORKSITE_COUNTY','ORIGINAL_CERT_DATE', \n",
    "                              'FULL_TIME_POSITION','EMPLOYER_COUNTRY', 'PW_WAGE_SOURCE', 'EMPLOYER_NAME'], axis=1)\n",
    "h1boverallv2.head()"
   ]
  },
  {
   "cell_type": "markdown",
   "metadata": {},
   "source": [
    "# 3) Cleaning Data"
   ]
  },
  {
   "cell_type": "markdown",
   "metadata": {},
   "source": [
    "a) Take average of wage minimum and maximum threshold so as to only have one column with that information\n",
    "\n",
    "It would be more informative if I average the value of the columns 'WAGE_RATE_OF_PAY_FROM' and 'WAGE_RATE_OF_PAY_TO'. However, some values in one of the two columns are keyed in as '0', which would distort the average. Thus, I will first replace any 0 values with a NaN, then take an average of the two columns."
   ]
  },
  {
   "cell_type": "code",
   "execution_count": 4,
   "metadata": {
    "collapsed": false
   },
   "outputs": [],
   "source": [
    "# Create two functions that check if value is zero and replace with NaN\n",
    "def checkzeroinTo(row):\n",
    "    if row['WAGE_RATE_OF_PAY_FROM']==0:\n",
    "        return np.nan\n",
    "    else:\n",
    "        return row['WAGE_RATE_OF_PAY_FROM']\n",
    "    \n",
    "def checkzeroinFrom(row):\n",
    "    if row['WAGE_RATE_OF_PAY_TO']==0:\n",
    "        return np.nan\n",
    "    else:\n",
    "        return row['WAGE_RATE_OF_PAY_TO']    \n",
    "    \n",
    "\n",
    "# Apply functions to columns 'WAGE_RATE_OF_PAY_TO' and 'WAGE_RATE_OF_PAY_FROM'  \n",
    "h1boverallv2=h1boverallv2.assign(WAGE_RATE_OF_PAY_TO=h1boverallv2.apply(checkzeroinTo, axis=1))\n",
    "h1boverallv2=h1boverallv2.assign(WAGE_RATE_OF_PAY_FROM=h1boverallv2.apply(checkzeroinFrom, axis=1))"
   ]
  },
  {
   "cell_type": "code",
   "execution_count": 5,
   "metadata": {
    "collapsed": false
   },
   "outputs": [
    {
     "data": {
      "text/html": [
       "<div>\n",
       "<table border=\"1\" class=\"dataframe\">\n",
       "  <thead>\n",
       "    <tr style=\"text-align: right;\">\n",
       "      <th></th>\n",
       "      <th>CASE_NUMBER</th>\n",
       "      <th>CASE_STATUS</th>\n",
       "      <th>CASE_SUBMITTED</th>\n",
       "      <th>DECISION_DATE</th>\n",
       "      <th>VISA_CLASS</th>\n",
       "      <th>EMPLOYMENT_START_DATE</th>\n",
       "      <th>EMPLOYMENT_END_DATE</th>\n",
       "      <th>EMPLOYER_CITY</th>\n",
       "      <th>EMPLOYER_STATE</th>\n",
       "      <th>JOB_TITLE</th>\n",
       "      <th>TOTAL_WORKERS</th>\n",
       "      <th>PREVAILING_WAGE</th>\n",
       "      <th>WAGE_RATE_OF_PAY_TO</th>\n",
       "      <th>WAGE_UNIT_OF_PAY</th>\n",
       "      <th>H-1B_DEPENDENT</th>\n",
       "      <th>WILLFUL_VIOLATOR</th>\n",
       "      <th>WORKSITE_CITY</th>\n",
       "      <th>WORKSITE_STATE</th>\n",
       "      <th>Year</th>\n",
       "      <th>WAGE_RATE</th>\n",
       "    </tr>\n",
       "  </thead>\n",
       "  <tbody>\n",
       "    <tr>\n",
       "      <th>0</th>\n",
       "      <td>I-200-12240-490687</td>\n",
       "      <td>CERTIFIED-WITHDRAWN</td>\n",
       "      <td>2012-08-27</td>\n",
       "      <td>2015-10-16</td>\n",
       "      <td>H-1B</td>\n",
       "      <td>2013-02-25</td>\n",
       "      <td>2016-02-24</td>\n",
       "      <td>ANN ARBOR</td>\n",
       "      <td>MI</td>\n",
       "      <td>POSTDOCTORAL RESEARCH FELLOW</td>\n",
       "      <td>1</td>\n",
       "      <td>36067.00</td>\n",
       "      <td>41000.00</td>\n",
       "      <td>Year</td>\n",
       "      <td>N</td>\n",
       "      <td>N</td>\n",
       "      <td>ANN ARBOR</td>\n",
       "      <td>MI</td>\n",
       "      <td>2016</td>\n",
       "      <td>41000.00</td>\n",
       "    </tr>\n",
       "    <tr>\n",
       "      <th>1</th>\n",
       "      <td>I-200-13053-847481</td>\n",
       "      <td>CERTIFIED-WITHDRAWN</td>\n",
       "      <td>2013-02-25</td>\n",
       "      <td>2016-01-13</td>\n",
       "      <td>H-1B</td>\n",
       "      <td>2013-08-24</td>\n",
       "      <td>2016-08-23</td>\n",
       "      <td>PLANO</td>\n",
       "      <td>TX</td>\n",
       "      <td>CHIEF OPERATING OFFICER</td>\n",
       "      <td>1</td>\n",
       "      <td>242674.00</td>\n",
       "      <td>400000.00</td>\n",
       "      <td>Year</td>\n",
       "      <td>N</td>\n",
       "      <td>N</td>\n",
       "      <td>PLANO</td>\n",
       "      <td>TX</td>\n",
       "      <td>2016</td>\n",
       "      <td>400000.00</td>\n",
       "    </tr>\n",
       "    <tr>\n",
       "      <th>2</th>\n",
       "      <td>I-200-13088-054259</td>\n",
       "      <td>CERTIFIED-WITHDRAWN</td>\n",
       "      <td>2013-04-23</td>\n",
       "      <td>2015-12-10</td>\n",
       "      <td>H-1B</td>\n",
       "      <td>2013-04-29</td>\n",
       "      <td>2016-04-28</td>\n",
       "      <td>JERSEY CITY</td>\n",
       "      <td>NJ</td>\n",
       "      <td>CHIEF PROCESS OFFICER</td>\n",
       "      <td>1</td>\n",
       "      <td>193066.00</td>\n",
       "      <td>264000.00</td>\n",
       "      <td>Year</td>\n",
       "      <td>N</td>\n",
       "      <td>N</td>\n",
       "      <td>JERSEY CITY</td>\n",
       "      <td>NJ</td>\n",
       "      <td>2016</td>\n",
       "      <td>264000.00</td>\n",
       "    </tr>\n",
       "    <tr>\n",
       "      <th>3</th>\n",
       "      <td>I-200-13144-034110</td>\n",
       "      <td>CERTIFIED-WITHDRAWN</td>\n",
       "      <td>2013-05-24</td>\n",
       "      <td>2016-01-19</td>\n",
       "      <td>H-1B</td>\n",
       "      <td>2013-10-01</td>\n",
       "      <td>2016-09-30</td>\n",
       "      <td>DENVER</td>\n",
       "      <td>CO</td>\n",
       "      <td>REGIONAL PRESIDEN, AMERICAS</td>\n",
       "      <td>1</td>\n",
       "      <td>220314.00</td>\n",
       "      <td>220314.00</td>\n",
       "      <td>Year</td>\n",
       "      <td>N</td>\n",
       "      <td>N</td>\n",
       "      <td>DENVER</td>\n",
       "      <td>CO</td>\n",
       "      <td>2016</td>\n",
       "      <td>220314.00</td>\n",
       "    </tr>\n",
       "    <tr>\n",
       "      <th>4</th>\n",
       "      <td>I-200-13172-415116</td>\n",
       "      <td>WITHDRAWN</td>\n",
       "      <td>2013-06-26</td>\n",
       "      <td>2016-05-20</td>\n",
       "      <td>H-1B</td>\n",
       "      <td>2013-10-18</td>\n",
       "      <td>2016-10-17</td>\n",
       "      <td>ST. LOUIS</td>\n",
       "      <td>MO</td>\n",
       "      <td>PRESIDENT MONGOLIA AND INDIA</td>\n",
       "      <td>1</td>\n",
       "      <td>75.73</td>\n",
       "      <td>171.63</td>\n",
       "      <td>Hour</td>\n",
       "      <td>N</td>\n",
       "      <td>N</td>\n",
       "      <td>ST. LOUIS</td>\n",
       "      <td>MO</td>\n",
       "      <td>2016</td>\n",
       "      <td>171.63</td>\n",
       "    </tr>\n",
       "  </tbody>\n",
       "</table>\n",
       "</div>"
      ],
      "text/plain": [
       "          CASE_NUMBER          CASE_STATUS CASE_SUBMITTED DECISION_DATE  \\\n",
       "0  I-200-12240-490687  CERTIFIED-WITHDRAWN     2012-08-27    2015-10-16   \n",
       "1  I-200-13053-847481  CERTIFIED-WITHDRAWN     2013-02-25    2016-01-13   \n",
       "2  I-200-13088-054259  CERTIFIED-WITHDRAWN     2013-04-23    2015-12-10   \n",
       "3  I-200-13144-034110  CERTIFIED-WITHDRAWN     2013-05-24    2016-01-19   \n",
       "4  I-200-13172-415116            WITHDRAWN     2013-06-26    2016-05-20   \n",
       "\n",
       "  VISA_CLASS EMPLOYMENT_START_DATE EMPLOYMENT_END_DATE EMPLOYER_CITY  \\\n",
       "0       H-1B            2013-02-25          2016-02-24     ANN ARBOR   \n",
       "1       H-1B            2013-08-24          2016-08-23         PLANO   \n",
       "2       H-1B            2013-04-29          2016-04-28   JERSEY CITY   \n",
       "3       H-1B            2013-10-01          2016-09-30        DENVER   \n",
       "4       H-1B            2013-10-18          2016-10-17     ST. LOUIS   \n",
       "\n",
       "  EMPLOYER_STATE                     JOB_TITLE  TOTAL_WORKERS  \\\n",
       "0             MI  POSTDOCTORAL RESEARCH FELLOW              1   \n",
       "1             TX       CHIEF OPERATING OFFICER              1   \n",
       "2             NJ         CHIEF PROCESS OFFICER              1   \n",
       "3             CO   REGIONAL PRESIDEN, AMERICAS              1   \n",
       "4             MO  PRESIDENT MONGOLIA AND INDIA              1   \n",
       "\n",
       "   PREVAILING_WAGE  WAGE_RATE_OF_PAY_TO WAGE_UNIT_OF_PAY H-1B_DEPENDENT  \\\n",
       "0         36067.00             41000.00             Year              N   \n",
       "1        242674.00            400000.00             Year              N   \n",
       "2        193066.00            264000.00             Year              N   \n",
       "3        220314.00            220314.00             Year              N   \n",
       "4            75.73               171.63             Hour              N   \n",
       "\n",
       "  WILLFUL_VIOLATOR WORKSITE_CITY WORKSITE_STATE  Year  WAGE_RATE  \n",
       "0                N     ANN ARBOR             MI  2016   41000.00  \n",
       "1                N         PLANO             TX  2016  400000.00  \n",
       "2                N   JERSEY CITY             NJ  2016  264000.00  \n",
       "3                N        DENVER             CO  2016  220314.00  \n",
       "4                N     ST. LOUIS             MO  2016     171.63  "
      ]
     },
     "execution_count": 5,
     "metadata": {},
     "output_type": "execute_result"
    }
   ],
   "source": [
    "# Now take an average of the two columns\n",
    "\n",
    "h1boverallv2['WAGE_RATE']=h1boverallv2[['WAGE_RATE_OF_PAY_FROM','WAGE_RATE_OF_PAY_FROM']].mean(axis=1)\n",
    "\n",
    "# and drop the two redundant columns now\n",
    "h1boverallv3=h1boverallv2.drop(['WAGE_RATE_OF_PAY_FROM','WAGE_RATE_OF_PAY_FROM'], axis=1)\n",
    "h1boverallv3.head()"
   ]
  },
  {
   "cell_type": "markdown",
   "metadata": {},
   "source": [
    "\n",
    "\n",
    "\n",
    "b) check for missing values"
   ]
  },
  {
   "cell_type": "code",
   "execution_count": 6,
   "metadata": {
    "collapsed": false
   },
   "outputs": [
    {
     "data": {
      "text/plain": [
       "CASE_NUMBER                  0\n",
       "CASE_STATUS                  0\n",
       "CASE_SUBMITTED               0\n",
       "DECISION_DATE                0\n",
       "VISA_CLASS                   0\n",
       "EMPLOYMENT_START_DATE       34\n",
       "EMPLOYMENT_END_DATE         50\n",
       "EMPLOYER_CITY               12\n",
       "EMPLOYER_STATE              68\n",
       "JOB_TITLE                   14\n",
       "TOTAL_WORKERS                0\n",
       "PREVAILING_WAGE              2\n",
       "WAGE_RATE_OF_PAY_TO         20\n",
       "WAGE_UNIT_OF_PAY            20\n",
       "H-1B_DEPENDENT           26544\n",
       "WILLFUL_VIOLATOR         26546\n",
       "WORKSITE_CITY               36\n",
       "WORKSITE_STATE              20\n",
       "Year                         0\n",
       "WAGE_RATE                   20\n",
       "dtype: int64"
      ]
     },
     "execution_count": 6,
     "metadata": {},
     "output_type": "execute_result"
    }
   ],
   "source": [
    "h1boverallv3.isnull().sum()"
   ]
  },
  {
   "cell_type": "markdown",
   "metadata": {},
   "source": [
    "> With such a large dataset with over 1 million observations, it seems prudent to simply remove any rows with at least one null value and avoid any inconvenience later in the analysis"
   ]
  },
  {
   "cell_type": "code",
   "execution_count": 7,
   "metadata": {
    "collapsed": true
   },
   "outputs": [],
   "source": [
    "h1boverallv3=h1boverallv3.dropna(axis=0, how='any') #remove any rows with at least one null value"
   ]
  },
  {
   "cell_type": "markdown",
   "metadata": {},
   "source": [
    "c) convert all wages into the same units of 'Yearly' \n",
    "\n",
    "    - for wage in Hourly, 1776 (assuming 37 hours per week and 48 weeks worked per year)\n",
    "\n",
    "    - for wage in weekly, multiply by 48\n",
    "    \n",
    "    - for wage in by-weekly, multiply by 24\n",
    "\n",
    "    - for wage in monthly, multiply by 12\n",
    "    \n",
    "\n"
   ]
  },
  {
   "cell_type": "code",
   "execution_count": 8,
   "metadata": {
    "collapsed": false
   },
   "outputs": [
    {
     "data": {
      "text/html": [
       "<div>\n",
       "<table border=\"1\" class=\"dataframe\">\n",
       "  <thead>\n",
       "    <tr style=\"text-align: right;\">\n",
       "      <th></th>\n",
       "      <th>CASE_NUMBER</th>\n",
       "      <th>CASE_STATUS</th>\n",
       "      <th>CASE_SUBMITTED</th>\n",
       "      <th>DECISION_DATE</th>\n",
       "      <th>VISA_CLASS</th>\n",
       "      <th>EMPLOYMENT_START_DATE</th>\n",
       "      <th>EMPLOYMENT_END_DATE</th>\n",
       "      <th>EMPLOYER_CITY</th>\n",
       "      <th>EMPLOYER_STATE</th>\n",
       "      <th>JOB_TITLE</th>\n",
       "      <th>TOTAL_WORKERS</th>\n",
       "      <th>PREVAILING_WAGE</th>\n",
       "      <th>WAGE_RATE_OF_PAY_TO</th>\n",
       "      <th>WAGE_UNIT_OF_PAY</th>\n",
       "      <th>H-1B_DEPENDENT</th>\n",
       "      <th>WILLFUL_VIOLATOR</th>\n",
       "      <th>WORKSITE_CITY</th>\n",
       "      <th>WORKSITE_STATE</th>\n",
       "      <th>Year</th>\n",
       "      <th>WAGE_RATE</th>\n",
       "    </tr>\n",
       "  </thead>\n",
       "  <tbody>\n",
       "    <tr>\n",
       "      <th>0</th>\n",
       "      <td>I-200-12240-490687</td>\n",
       "      <td>CERTIFIED-WITHDRAWN</td>\n",
       "      <td>2012-08-27</td>\n",
       "      <td>2015-10-16</td>\n",
       "      <td>H-1B</td>\n",
       "      <td>2013-02-25</td>\n",
       "      <td>2016-02-24</td>\n",
       "      <td>ANN ARBOR</td>\n",
       "      <td>MI</td>\n",
       "      <td>POSTDOCTORAL RESEARCH FELLOW</td>\n",
       "      <td>1</td>\n",
       "      <td>36067.00</td>\n",
       "      <td>41000.00</td>\n",
       "      <td>Year</td>\n",
       "      <td>N</td>\n",
       "      <td>N</td>\n",
       "      <td>ANN ARBOR</td>\n",
       "      <td>MI</td>\n",
       "      <td>2016</td>\n",
       "      <td>41000.00</td>\n",
       "    </tr>\n",
       "    <tr>\n",
       "      <th>1</th>\n",
       "      <td>I-200-13053-847481</td>\n",
       "      <td>CERTIFIED-WITHDRAWN</td>\n",
       "      <td>2013-02-25</td>\n",
       "      <td>2016-01-13</td>\n",
       "      <td>H-1B</td>\n",
       "      <td>2013-08-24</td>\n",
       "      <td>2016-08-23</td>\n",
       "      <td>PLANO</td>\n",
       "      <td>TX</td>\n",
       "      <td>CHIEF OPERATING OFFICER</td>\n",
       "      <td>1</td>\n",
       "      <td>242674.00</td>\n",
       "      <td>400000.00</td>\n",
       "      <td>Year</td>\n",
       "      <td>N</td>\n",
       "      <td>N</td>\n",
       "      <td>PLANO</td>\n",
       "      <td>TX</td>\n",
       "      <td>2016</td>\n",
       "      <td>400000.00</td>\n",
       "    </tr>\n",
       "    <tr>\n",
       "      <th>2</th>\n",
       "      <td>I-200-13088-054259</td>\n",
       "      <td>CERTIFIED-WITHDRAWN</td>\n",
       "      <td>2013-04-23</td>\n",
       "      <td>2015-12-10</td>\n",
       "      <td>H-1B</td>\n",
       "      <td>2013-04-29</td>\n",
       "      <td>2016-04-28</td>\n",
       "      <td>JERSEY CITY</td>\n",
       "      <td>NJ</td>\n",
       "      <td>CHIEF PROCESS OFFICER</td>\n",
       "      <td>1</td>\n",
       "      <td>193066.00</td>\n",
       "      <td>264000.00</td>\n",
       "      <td>Year</td>\n",
       "      <td>N</td>\n",
       "      <td>N</td>\n",
       "      <td>JERSEY CITY</td>\n",
       "      <td>NJ</td>\n",
       "      <td>2016</td>\n",
       "      <td>264000.00</td>\n",
       "    </tr>\n",
       "    <tr>\n",
       "      <th>3</th>\n",
       "      <td>I-200-13144-034110</td>\n",
       "      <td>CERTIFIED-WITHDRAWN</td>\n",
       "      <td>2013-05-24</td>\n",
       "      <td>2016-01-19</td>\n",
       "      <td>H-1B</td>\n",
       "      <td>2013-10-01</td>\n",
       "      <td>2016-09-30</td>\n",
       "      <td>DENVER</td>\n",
       "      <td>CO</td>\n",
       "      <td>REGIONAL PRESIDEN, AMERICAS</td>\n",
       "      <td>1</td>\n",
       "      <td>220314.00</td>\n",
       "      <td>220314.00</td>\n",
       "      <td>Year</td>\n",
       "      <td>N</td>\n",
       "      <td>N</td>\n",
       "      <td>DENVER</td>\n",
       "      <td>CO</td>\n",
       "      <td>2016</td>\n",
       "      <td>220314.00</td>\n",
       "    </tr>\n",
       "    <tr>\n",
       "      <th>4</th>\n",
       "      <td>I-200-13172-415116</td>\n",
       "      <td>WITHDRAWN</td>\n",
       "      <td>2013-06-26</td>\n",
       "      <td>2016-05-20</td>\n",
       "      <td>H-1B</td>\n",
       "      <td>2013-10-18</td>\n",
       "      <td>2016-10-17</td>\n",
       "      <td>ST. LOUIS</td>\n",
       "      <td>MO</td>\n",
       "      <td>PRESIDENT MONGOLIA AND INDIA</td>\n",
       "      <td>1</td>\n",
       "      <td>75.73</td>\n",
       "      <td>171.63</td>\n",
       "      <td>Hour</td>\n",
       "      <td>N</td>\n",
       "      <td>N</td>\n",
       "      <td>ST. LOUIS</td>\n",
       "      <td>MO</td>\n",
       "      <td>2016</td>\n",
       "      <td>304814.88</td>\n",
       "    </tr>\n",
       "  </tbody>\n",
       "</table>\n",
       "</div>"
      ],
      "text/plain": [
       "          CASE_NUMBER          CASE_STATUS CASE_SUBMITTED DECISION_DATE  \\\n",
       "0  I-200-12240-490687  CERTIFIED-WITHDRAWN     2012-08-27    2015-10-16   \n",
       "1  I-200-13053-847481  CERTIFIED-WITHDRAWN     2013-02-25    2016-01-13   \n",
       "2  I-200-13088-054259  CERTIFIED-WITHDRAWN     2013-04-23    2015-12-10   \n",
       "3  I-200-13144-034110  CERTIFIED-WITHDRAWN     2013-05-24    2016-01-19   \n",
       "4  I-200-13172-415116            WITHDRAWN     2013-06-26    2016-05-20   \n",
       "\n",
       "  VISA_CLASS EMPLOYMENT_START_DATE EMPLOYMENT_END_DATE EMPLOYER_CITY  \\\n",
       "0       H-1B            2013-02-25          2016-02-24     ANN ARBOR   \n",
       "1       H-1B            2013-08-24          2016-08-23         PLANO   \n",
       "2       H-1B            2013-04-29          2016-04-28   JERSEY CITY   \n",
       "3       H-1B            2013-10-01          2016-09-30        DENVER   \n",
       "4       H-1B            2013-10-18          2016-10-17     ST. LOUIS   \n",
       "\n",
       "  EMPLOYER_STATE                     JOB_TITLE  TOTAL_WORKERS  \\\n",
       "0             MI  POSTDOCTORAL RESEARCH FELLOW              1   \n",
       "1             TX       CHIEF OPERATING OFFICER              1   \n",
       "2             NJ         CHIEF PROCESS OFFICER              1   \n",
       "3             CO   REGIONAL PRESIDEN, AMERICAS              1   \n",
       "4             MO  PRESIDENT MONGOLIA AND INDIA              1   \n",
       "\n",
       "   PREVAILING_WAGE  WAGE_RATE_OF_PAY_TO WAGE_UNIT_OF_PAY H-1B_DEPENDENT  \\\n",
       "0         36067.00             41000.00             Year              N   \n",
       "1        242674.00            400000.00             Year              N   \n",
       "2        193066.00            264000.00             Year              N   \n",
       "3        220314.00            220314.00             Year              N   \n",
       "4            75.73               171.63             Hour              N   \n",
       "\n",
       "  WILLFUL_VIOLATOR WORKSITE_CITY WORKSITE_STATE  Year  WAGE_RATE  \n",
       "0                N     ANN ARBOR             MI  2016   41000.00  \n",
       "1                N         PLANO             TX  2016  400000.00  \n",
       "2                N   JERSEY CITY             NJ  2016  264000.00  \n",
       "3                N        DENVER             CO  2016  220314.00  \n",
       "4                N     ST. LOUIS             MO  2016  304814.88  "
      ]
     },
     "execution_count": 8,
     "metadata": {},
     "output_type": "execute_result"
    }
   ],
   "source": [
    "# function to convert to yearly wage\n",
    "def yearly(wage):\n",
    "    if wage['WAGE_UNIT_OF_PAY'] == 'Hour':\n",
    "        return wage['WAGE_RATE']*1776\n",
    "    elif wage['WAGE_UNIT_OF_PAY'] == 'Week':\n",
    "        return wage['WAGE_RATE']*48\n",
    "    elif wage['WAGE_UNIT_OF_PAY'] == 'Bi-Weekly':\n",
    "        return wage['WAGE_RATE']*24\n",
    "    elif wage['WAGE_UNIT_OF_PAY'] == 'Month':\n",
    "        return wage['WAGE_RATE']*12\n",
    "    else:\n",
    "        return wage['WAGE_RATE']\n",
    "    \n",
    "\n",
    "    \n",
    "h1boverallv4=h1boverallv3.assign(WAGE_RATE=h1boverallv3.apply(yearly, axis=1)) \n",
    "h1boverallv4.head()"
   ]
  },
  {
   "cell_type": "markdown",
   "metadata": {},
   "source": [
    "d) Check for any erroneous data by removing any over 90% threshold and below 10% threshold"
   ]
  },
  {
   "cell_type": "code",
   "execution_count": 9,
   "metadata": {
    "collapsed": false
   },
   "outputs": [
    {
     "data": {
      "text/plain": [
       "count    1.269026e+06\n",
       "mean     9.491340e+04\n",
       "std      1.517149e+06\n",
       "min      1.000000e+00\n",
       "25%      6.200000e+04\n",
       "50%      7.350000e+04\n",
       "75%      9.400000e+04\n",
       "max      4.102045e+08\n",
       "Name: WAGE_RATE, dtype: float64"
      ]
     },
     "execution_count": 9,
     "metadata": {},
     "output_type": "execute_result"
    }
   ],
   "source": [
    "# Check for erroneous data by observing the summary statistics of the wages columns\n",
    "h1boverallv4.WAGE_RATE.describe()"
   ]
  },
  {
   "cell_type": "code",
   "execution_count": 13,
   "metadata": {
    "collapsed": false
   },
   "outputs": [
    {
     "data": {
      "text/plain": [
       "0.01     35662.08\n",
       "0.99    210000.00\n",
       "Name: WAGE_RATE, dtype: float64"
      ]
     },
     "execution_count": 13,
     "metadata": {},
     "output_type": "execute_result"
    }
   ],
   "source": [
    "# the minimum and maximum are well beyond the 25% and 75% quartiles, respectively.\n",
    "\n",
    "h1boverallv4.WAGE_RATE.quantile([0.01, 0.99])\n",
    "\n",
    "# Removing the bottom and top 1% of values would leave reasonable wage values "
   ]
  },
  {
   "cell_type": "code",
   "execution_count": 14,
   "metadata": {
    "collapsed": false
   },
   "outputs": [],
   "source": [
    "# Remove any values above / below these thresholds as their values or units may have been incorrectly keyed into the database\n",
    "\n",
    "def outliers(row):\n",
    "    if row['WAGE_RATE']<35600:\n",
    "        return np.nan\n",
    "    elif row['WAGE_RATE']>210000:\n",
    "        return np.nan\n",
    "    else:\n",
    "        return row['WAGE_RATE']\n",
    "\n",
    "h1boverallv5=h1boverallv4.assign(WAGE_RATE=h1boverallv4.apply(outliers, axis=1)) \n",
    "h1boverallv5=h1boverallv5.dropna(how='any', axis=0)"
   ]
  },
  {
   "cell_type": "code",
   "execution_count": 15,
   "metadata": {
    "collapsed": false
   },
   "outputs": [
    {
     "data": {
      "text/plain": [
       "count    1.244298e+06\n",
       "mean     8.115583e+04\n",
       "std      2.769796e+04\n",
       "min      3.560880e+04\n",
       "25%      6.200000e+04\n",
       "50%      7.350000e+04\n",
       "75%      9.328800e+04\n",
       "max      2.100000e+05\n",
       "Name: WAGE_RATE, dtype: float64"
      ]
     },
     "execution_count": 15,
     "metadata": {},
     "output_type": "execute_result"
    }
   ],
   "source": [
    "# Check distribution of wages following removal of extreme values\n",
    "h1boverallv5.WAGE_RATE.describe()"
   ]
  },
  {
   "cell_type": "markdown",
   "metadata": {},
   "source": [
    "# 4) Analysis"
   ]
  },
  {
   "cell_type": "code",
   "execution_count": 16,
   "metadata": {
    "collapsed": true
   },
   "outputs": [],
   "source": [
    "import seaborn as sns\n",
    "sns.set_style(\"whitegrid\")\n",
    "import datetime\n",
    "import matplotlib.pyplot as plt\n",
    "\n",
    "%matplotlib inline"
   ]
  },
  {
   "cell_type": "markdown",
   "metadata": {},
   "source": [
    "a) days taken to receive response related to wage of applicant?\n"
   ]
  },
  {
   "cell_type": "code",
   "execution_count": 17,
   "metadata": {
    "collapsed": false
   },
   "outputs": [
    {
     "data": {
      "text/html": [
       "<div>\n",
       "<table border=\"1\" class=\"dataframe\">\n",
       "  <thead>\n",
       "    <tr style=\"text-align: right;\">\n",
       "      <th></th>\n",
       "      <th>CASE_NUMBER</th>\n",
       "      <th>CASE_STATUS</th>\n",
       "      <th>CASE_SUBMITTED</th>\n",
       "      <th>DECISION_DATE</th>\n",
       "      <th>VISA_CLASS</th>\n",
       "      <th>EMPLOYMENT_START_DATE</th>\n",
       "      <th>EMPLOYMENT_END_DATE</th>\n",
       "      <th>EMPLOYER_CITY</th>\n",
       "      <th>EMPLOYER_STATE</th>\n",
       "      <th>JOB_TITLE</th>\n",
       "      <th>...</th>\n",
       "      <th>PREVAILING_WAGE</th>\n",
       "      <th>WAGE_RATE_OF_PAY_TO</th>\n",
       "      <th>WAGE_UNIT_OF_PAY</th>\n",
       "      <th>H-1B_DEPENDENT</th>\n",
       "      <th>WILLFUL_VIOLATOR</th>\n",
       "      <th>WORKSITE_CITY</th>\n",
       "      <th>WORKSITE_STATE</th>\n",
       "      <th>Year</th>\n",
       "      <th>WAGE_RATE</th>\n",
       "      <th>Days</th>\n",
       "    </tr>\n",
       "  </thead>\n",
       "  <tbody>\n",
       "    <tr>\n",
       "      <th>0</th>\n",
       "      <td>I-200-12240-490687</td>\n",
       "      <td>CERTIFIED-WITHDRAWN</td>\n",
       "      <td>2012-08-27</td>\n",
       "      <td>2015-10-16</td>\n",
       "      <td>H-1B</td>\n",
       "      <td>2013-02-25</td>\n",
       "      <td>2016-02-24</td>\n",
       "      <td>ANN ARBOR</td>\n",
       "      <td>MI</td>\n",
       "      <td>POSTDOCTORAL RESEARCH FELLOW</td>\n",
       "      <td>...</td>\n",
       "      <td>36067.0</td>\n",
       "      <td>41000.0</td>\n",
       "      <td>Year</td>\n",
       "      <td>N</td>\n",
       "      <td>N</td>\n",
       "      <td>ANN ARBOR</td>\n",
       "      <td>MI</td>\n",
       "      <td>2016</td>\n",
       "      <td>41000.0</td>\n",
       "      <td>1145</td>\n",
       "    </tr>\n",
       "    <tr>\n",
       "      <th>6</th>\n",
       "      <td>I-200-13317-861241</td>\n",
       "      <td>CERTIFIED-WITHDRAWN</td>\n",
       "      <td>2013-11-20</td>\n",
       "      <td>2016-02-22</td>\n",
       "      <td>H-1B</td>\n",
       "      <td>2013-12-02</td>\n",
       "      <td>2016-12-01</td>\n",
       "      <td>MIAMI</td>\n",
       "      <td>FL</td>\n",
       "      <td>CHIEF OPERATING OFFICER</td>\n",
       "      <td>...</td>\n",
       "      <td>91021.0</td>\n",
       "      <td>120000.0</td>\n",
       "      <td>Year</td>\n",
       "      <td>N</td>\n",
       "      <td>N</td>\n",
       "      <td>HOUSTON</td>\n",
       "      <td>TX</td>\n",
       "      <td>2016</td>\n",
       "      <td>120000.0</td>\n",
       "      <td>824</td>\n",
       "    </tr>\n",
       "    <tr>\n",
       "      <th>7</th>\n",
       "      <td>I-200-14037-755844</td>\n",
       "      <td>CERTIFIED-WITHDRAWN</td>\n",
       "      <td>2014-02-07</td>\n",
       "      <td>2015-11-16</td>\n",
       "      <td>H-1B</td>\n",
       "      <td>2014-08-07</td>\n",
       "      <td>2017-08-06</td>\n",
       "      <td>SAN JOSE</td>\n",
       "      <td>CA</td>\n",
       "      <td>CHIEF OPERATIONS OFFICER</td>\n",
       "      <td>...</td>\n",
       "      <td>150000.0</td>\n",
       "      <td>150000.0</td>\n",
       "      <td>Year</td>\n",
       "      <td>N</td>\n",
       "      <td>N</td>\n",
       "      <td>SAN JOSE</td>\n",
       "      <td>CA</td>\n",
       "      <td>2016</td>\n",
       "      <td>150000.0</td>\n",
       "      <td>647</td>\n",
       "    </tr>\n",
       "    <tr>\n",
       "      <th>8</th>\n",
       "      <td>I-200-14042-183163</td>\n",
       "      <td>CERTIFIED-WITHDRAWN</td>\n",
       "      <td>2014-02-19</td>\n",
       "      <td>2015-11-18</td>\n",
       "      <td>H-1B</td>\n",
       "      <td>2014-02-21</td>\n",
       "      <td>2017-02-21</td>\n",
       "      <td>MEMPHIS</td>\n",
       "      <td>TN</td>\n",
       "      <td>PRESIDENT</td>\n",
       "      <td>...</td>\n",
       "      <td>127546.0</td>\n",
       "      <td>175000.0</td>\n",
       "      <td>Year</td>\n",
       "      <td>N</td>\n",
       "      <td>N</td>\n",
       "      <td>MEMPHIS</td>\n",
       "      <td>TX</td>\n",
       "      <td>2016</td>\n",
       "      <td>175000.0</td>\n",
       "      <td>637</td>\n",
       "    </tr>\n",
       "    <tr>\n",
       "      <th>9</th>\n",
       "      <td>I-200-14072-690535</td>\n",
       "      <td>WITHDRAWN</td>\n",
       "      <td>2014-03-19</td>\n",
       "      <td>2016-03-03</td>\n",
       "      <td>H-1B</td>\n",
       "      <td>2014-09-16</td>\n",
       "      <td>2017-09-15</td>\n",
       "      <td>VIENNA</td>\n",
       "      <td>VA</td>\n",
       "      <td>PRESIDENT</td>\n",
       "      <td>...</td>\n",
       "      <td>154648.0</td>\n",
       "      <td>155000.0</td>\n",
       "      <td>Year</td>\n",
       "      <td>N</td>\n",
       "      <td>N</td>\n",
       "      <td>VIENNA</td>\n",
       "      <td>VA</td>\n",
       "      <td>2016</td>\n",
       "      <td>155000.0</td>\n",
       "      <td>715</td>\n",
       "    </tr>\n",
       "  </tbody>\n",
       "</table>\n",
       "<p>5 rows × 21 columns</p>\n",
       "</div>"
      ],
      "text/plain": [
       "          CASE_NUMBER          CASE_STATUS CASE_SUBMITTED DECISION_DATE  \\\n",
       "0  I-200-12240-490687  CERTIFIED-WITHDRAWN     2012-08-27    2015-10-16   \n",
       "6  I-200-13317-861241  CERTIFIED-WITHDRAWN     2013-11-20    2016-02-22   \n",
       "7  I-200-14037-755844  CERTIFIED-WITHDRAWN     2014-02-07    2015-11-16   \n",
       "8  I-200-14042-183163  CERTIFIED-WITHDRAWN     2014-02-19    2015-11-18   \n",
       "9  I-200-14072-690535            WITHDRAWN     2014-03-19    2016-03-03   \n",
       "\n",
       "  VISA_CLASS EMPLOYMENT_START_DATE EMPLOYMENT_END_DATE EMPLOYER_CITY  \\\n",
       "0       H-1B            2013-02-25          2016-02-24     ANN ARBOR   \n",
       "6       H-1B            2013-12-02          2016-12-01         MIAMI   \n",
       "7       H-1B            2014-08-07          2017-08-06      SAN JOSE   \n",
       "8       H-1B            2014-02-21          2017-02-21       MEMPHIS   \n",
       "9       H-1B            2014-09-16          2017-09-15        VIENNA   \n",
       "\n",
       "  EMPLOYER_STATE                     JOB_TITLE  ...   PREVAILING_WAGE  \\\n",
       "0             MI  POSTDOCTORAL RESEARCH FELLOW  ...           36067.0   \n",
       "6             FL       CHIEF OPERATING OFFICER  ...           91021.0   \n",
       "7             CA      CHIEF OPERATIONS OFFICER  ...          150000.0   \n",
       "8             TN                     PRESIDENT  ...          127546.0   \n",
       "9             VA                     PRESIDENT  ...          154648.0   \n",
       "\n",
       "   WAGE_RATE_OF_PAY_TO  WAGE_UNIT_OF_PAY H-1B_DEPENDENT WILLFUL_VIOLATOR  \\\n",
       "0              41000.0              Year              N                N   \n",
       "6             120000.0              Year              N                N   \n",
       "7             150000.0              Year              N                N   \n",
       "8             175000.0              Year              N                N   \n",
       "9             155000.0              Year              N                N   \n",
       "\n",
       "  WORKSITE_CITY WORKSITE_STATE  Year  WAGE_RATE  Days  \n",
       "0     ANN ARBOR             MI  2016    41000.0  1145  \n",
       "6       HOUSTON             TX  2016   120000.0   824  \n",
       "7      SAN JOSE             CA  2016   150000.0   647  \n",
       "8       MEMPHIS             TX  2016   175000.0   637  \n",
       "9        VIENNA             VA  2016   155000.0   715  \n",
       "\n",
       "[5 rows x 21 columns]"
      ]
     },
     "execution_count": 17,
     "metadata": {},
     "output_type": "execute_result"
    }
   ],
   "source": [
    "# Create colummn with the days between application and receiving decision\n",
    "h1boverallv5['Days']=(h1boverallv5['DECISION_DATE']-h1boverallv5['CASE_SUBMITTED']).dt.days\n",
    "h1boverallv5.head() # check result"
   ]
  },
  {
   "cell_type": "code",
   "execution_count": 18,
   "metadata": {
    "collapsed": false
   },
   "outputs": [
    {
     "data": {
      "text/plain": [
       "(0, 14)"
      ]
     },
     "execution_count": 18,
     "metadata": {},
     "output_type": "execute_result"
    },
    {
     "data": {
      "image/png": "[encoded data removed]",
      "text/plain": [
       "<matplotlib.figure.Figure at 0x12a1e0eb8>"
      ]
     },
     "metadata": {},
     "output_type": "display_data"
    }
   ],
   "source": [
    "# Create new DataFrame with only approved applications\n",
    "h1bApproved=h1boverallv5.loc[(h1boverallv5.CASE_STATUS=='CERTIFIED') & (h1boverallv5.VISA_CLASS=='H-1B')]\n",
    "\n",
    "# Plot wages against days taken to receive a response for approved cases\n",
    "plt.scatter(h1bApproved.WAGE_RATE, h1bApproved.Days)\n",
    "plt.xlabel('Wages')\n",
    "plt.ylabel('Days to Response')\n",
    "plt.title('Response time for Accepted Applications')\n",
    "plt.ylim(0, 14)"
   ]
  },
  {
   "cell_type": "code",
   "execution_count": 19,
   "metadata": {
    "collapsed": false
   },
   "outputs": [
    {
     "data": {
      "text/plain": [
       "<matplotlib.text.Text at 0x12749c748>"
      ]
     },
     "execution_count": 19,
     "metadata": {},
     "output_type": "execute_result"
    },
    {
     "data": {
      "image/png": "[encoded data removed]",
      "text/plain": [
       "<matplotlib.figure.Figure at 0x12a6c7518>"
      ]
     },
     "metadata": {},
     "output_type": "display_data"
    }
   ],
   "source": [
    "# Create new DataFrame with rejected applications\n",
    "\n",
    "h1bDenied=h1boverallv5.loc[(h1boverallv5.CASE_STATUS=='DENIED')]\n",
    "\n",
    "plt.scatter(h1bDenied.WAGE_RATE, h1bDenied.Days, color='red')\n",
    "plt.xlabel('Wages')\n",
    "plt.ylabel('Days to Response')\n",
    "plt.title('Response time for Rejected Applications')"
   ]
  },
  {
   "cell_type": "markdown",
   "metadata": {},
   "source": [
    "I was expecting a larger variation in response times and perhaps a relationship with the wages, whereby higher wages corresponding to quicker responses. From the graph there appeaers to be a weak trend insofar as most if the higher wage applications are tending towards the lower half of the days taken to get a response. Nonetheless its a very weak relationship and all applications in both cases are given a response within 12 days. "
   ]
  },
  {
   "cell_type": "markdown",
   "metadata": {},
   "source": [
    "b) The second half of the analysis is to see if there is a relationship between accepted applications and the wages of the recipient. To do this, a simple bar chart will be used to compare the two side by side"
   ]
  },
  {
   "cell_type": "code",
   "execution_count": 20,
   "metadata": {
    "collapsed": false
   },
   "outputs": [],
   "source": [
    "h1b=pd.concat([h1bDenied, h1bApproved]) #combine dataframes"
   ]
  },
  {
   "cell_type": "code",
   "execution_count": 22,
   "metadata": {
    "collapsed": false
   },
   "outputs": [
    {
     "data": {
      "text/plain": [
       "<matplotlib.axes._subplots.AxesSubplot at 0x12a62dda0>"
      ]
     },
     "execution_count": 22,
     "metadata": {},
     "output_type": "execute_result"
    },
    {
     "data": {
      "image/png": "[encoded data removed]",
      "text/plain": [
       "<matplotlib.figure.Figure at 0x12bb3e898>"
      ]
     },
     "metadata": {},
     "output_type": "display_data"
    }
   ],
   "source": [
    "sns.barplot(h1b.CASE_STATUS,h1b.WAGE_RATE)"
   ]
  },
  {
   "cell_type": "markdown",
   "metadata": {},
   "source": [
    "Can't see observe much from this graph. Although the accepted applications are only slightly higher, the disparity is marginal.\n",
    "\n",
    "As above, I will now see if there is a relationship between the days taken to receive a response and the status of the response."
   ]
  },
  {
   "cell_type": "code",
   "execution_count": 24,
   "metadata": {
    "collapsed": false
   },
   "outputs": [
    {
     "data": {
      "text/plain": [
       "<matplotlib.axes._subplots.AxesSubplot at 0x1321bc7f0>"
      ]
     },
     "execution_count": 24,
     "metadata": {},
     "output_type": "execute_result"
    },
    {
     "data": {
      "image/png": "[encoded data removed]",
      "text/plain": [
       "<matplotlib.figure.Figure at 0x1274d0e80>"
      ]
     },
     "metadata": {},
     "output_type": "display_data"
    }
   ],
   "source": [
    "sns.barplot(h1b.CASE_STATUS,h1b.Days)"
   ]
  },
  {
   "cell_type": "markdown",
   "metadata": {
    "collapsed": true
   },
   "source": [
    "In this case, accepted applications, on average, take almost twice as long to receive their response."
   ]
  },
  {
   "cell_type": "code",
   "execution_count": null,
   "metadata": {
    "collapsed": true
   },
   "outputs": [],
   "source": []
  }
 ],
 "metadata": {
  "anaconda-cloud": {},
  "kernelspec": {
   "display_name": "Python [default]",
   "language": "python",
   "name": "python3"
  },
  "language_info": {
   "codemirror_mode": {
    "name": "ipython",
    "version": 3
   },
   "file_extension": ".py",
   "mimetype": "text/x-python",
   "name": "python",
   "nbconvert_exporter": "python",
   "pygments_lexer": "ipython3",
   "version": "3.5.2"
  }
 },
 "nbformat": 4,
 "nbformat_minor": 1
}
